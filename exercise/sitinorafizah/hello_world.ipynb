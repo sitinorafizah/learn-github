{
  "nbformat": 4,
  "nbformat_minor": 0,
  "metadata": {
    "colab": {
      "provenance": [],
      "toc_visible": true,
      "authorship_tag": "ABX9TyN26kRjjz7qES6UcbA6x9gH",
      "include_colab_link": true
    },
    "kernelspec": {
      "name": "python3",
      "display_name": "Python 3"
    },
    "language_info": {
      "name": "python"
    }
  },
  "cells": [
    {
      "cell_type": "markdown",
      "metadata": {
        "id": "view-in-github",
        "colab_type": "text"
      },
      "source": [
        "<a href=\"https://colab.research.google.com/github/sitinorafizah/learn-github/blob/main/exercise/sitinorafizah/hello_world.ipynb\" target=\"_parent\"><img src=\"https://colab.research.google.com/assets/colab-badge.svg\" alt=\"Open In Colab\"/></a>"
      ]
    },
    {
      "cell_type": "markdown",
      "source": [
        "# Hello World\n",
        "## Hello World\n",
        "### Hello World\n",
        "#### Hello World"
      ],
      "metadata": {
        "id": "2kCG7YsQQHux"
      }
    },
    {
      "cell_type": "markdown",
      "source": [
        "# Myinfo\n",
        "Name : Siti Norafizah"
      ],
      "metadata": {
        "id": "0iMVuQa7Qbsw"
      }
    },
    {
      "cell_type": "code",
      "execution_count": null,
      "metadata": {
        "id": "T_fBp4dSQGnW"
      },
      "outputs": [],
      "source": [
        "import numpy as np"
      ]
    }
  ]
}